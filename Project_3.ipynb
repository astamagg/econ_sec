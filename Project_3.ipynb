{
 "cells": [
  {
   "cell_type": "code",
   "execution_count": 1,
   "metadata": {},
   "outputs": [],
   "source": [
    "import pandas as pd\n",
    "import scipy.stats as stats\n",
    "import statsmodels.api as sm\n",
    "from sklearn.preprocessing import LabelEncoder\n",
    "from scipy.stats import spearmanr\n",
    "import statistics\n",
    "import seaborn as sns\n",
    "import matplotlib.pyplot as plt\n",
    "import numpy as np\n",
    "from numpy.random import seed"
   ]
  },
  {
   "cell_type": "markdown",
   "metadata": {},
   "source": [
    "## Data setup"
   ]
  },
  {
   "cell_type": "code",
   "execution_count": 2,
   "metadata": {},
   "outputs": [
    {
     "name": "stderr",
     "output_type": "stream",
     "text": [
      "/Users/almagunn/anaconda3/lib/python3.7/site-packages/IPython/core/interactiveshell.py:3063: DtypeWarning: Columns (0) have mixed types.Specify dtype option on import or set low_memory=False.\n",
      "  interactivity=interactivity, compiler=compiler, result=result)\n"
     ]
    },
    {
     "data": {
      "text/html": [
       "<div>\n",
       "<style scoped>\n",
       "    .dataframe tbody tr th:only-of-type {\n",
       "        vertical-align: middle;\n",
       "    }\n",
       "\n",
       "    .dataframe tbody tr th {\n",
       "        vertical-align: top;\n",
       "    }\n",
       "\n",
       "    .dataframe thead th {\n",
       "        text-align: right;\n",
       "    }\n",
       "</style>\n",
       "<table border=\"1\" class=\"dataframe\">\n",
       "  <thead>\n",
       "    <tr style=\"text-align: right;\">\n",
       "      <th></th>\n",
       "      <th>Session</th>\n",
       "      <th>Timestamp</th>\n",
       "      <th>Client IP Block</th>\n",
       "      <th>ASN</th>\n",
       "      <th>Country</th>\n",
       "      <th>NAT</th>\n",
       "      <th>Outbound Private Status</th>\n",
       "      <th>Outbound Routable Status</th>\n",
       "      <th>Adjacent Spoof Prefix Length</th>\n",
       "    </tr>\n",
       "  </thead>\n",
       "  <tbody>\n",
       "    <tr>\n",
       "      <th>6</th>\n",
       "      <td>966236</td>\n",
       "      <td>2020-08-31 23:48:14</td>\n",
       "      <td>103.132.11.x/24</td>\n",
       "      <td>138528 (EMPIRETECH-AS-AP)</td>\n",
       "      <td>khm (Cambodia, Kingdom of)</td>\n",
       "      <td>yes</td>\n",
       "      <td>received</td>\n",
       "      <td>received</td>\n",
       "      <td>/8</td>\n",
       "    </tr>\n",
       "    <tr>\n",
       "      <th>23</th>\n",
       "      <td>966208</td>\n",
       "      <td>2020-08-31 23:21:12</td>\n",
       "      <td>177.190.91.x/24</td>\n",
       "      <td>262977</td>\n",
       "      <td>bra (Brazil)</td>\n",
       "      <td>yes</td>\n",
       "      <td>rewritten</td>\n",
       "      <td>received</td>\n",
       "      <td>none</td>\n",
       "    </tr>\n",
       "    <tr>\n",
       "      <th>44</th>\n",
       "      <td>966170</td>\n",
       "      <td>2020-08-31 22:18:40</td>\n",
       "      <td>2804:4e08:20xx::/40</td>\n",
       "      <td>268235</td>\n",
       "      <td>bra (Brazil)</td>\n",
       "      <td>no</td>\n",
       "      <td>received</td>\n",
       "      <td>received</td>\n",
       "      <td>/16</td>\n",
       "    </tr>\n",
       "    <tr>\n",
       "      <th>53</th>\n",
       "      <td>966159</td>\n",
       "      <td>2020-08-31 22:00:03</td>\n",
       "      <td>2804:4e08:20xx::/40</td>\n",
       "      <td>268235</td>\n",
       "      <td>bra (Brazil)</td>\n",
       "      <td>no</td>\n",
       "      <td>received</td>\n",
       "      <td>received</td>\n",
       "      <td>/16</td>\n",
       "    </tr>\n",
       "    <tr>\n",
       "      <th>55</th>\n",
       "      <td>966158</td>\n",
       "      <td>2020-08-31 21:59:07</td>\n",
       "      <td>2a02:27b0:45xx::/40</td>\n",
       "      <td>9146 (BIHNET)</td>\n",
       "      <td>bih (Bosnia and Herzegovina)</td>\n",
       "      <td>no</td>\n",
       "      <td>received</td>\n",
       "      <td>received</td>\n",
       "      <td>/16</td>\n",
       "    </tr>\n",
       "  </tbody>\n",
       "</table>\n",
       "</div>"
      ],
      "text/plain": [
       "   Session            Timestamp      Client IP Block  \\\n",
       "6   966236  2020-08-31 23:48:14      103.132.11.x/24   \n",
       "23  966208  2020-08-31 23:21:12      177.190.91.x/24   \n",
       "44  966170  2020-08-31 22:18:40  2804:4e08:20xx::/40   \n",
       "53  966159  2020-08-31 22:00:03  2804:4e08:20xx::/40   \n",
       "55  966158  2020-08-31 21:59:07  2a02:27b0:45xx::/40   \n",
       "\n",
       "                          ASN                       Country  NAT  \\\n",
       "6   138528 (EMPIRETECH-AS-AP)    khm (Cambodia, Kingdom of)  yes   \n",
       "23                     262977                  bra (Brazil)  yes   \n",
       "44                     268235                  bra (Brazil)   no   \n",
       "53                     268235                  bra (Brazil)   no   \n",
       "55              9146 (BIHNET)  bih (Bosnia and Herzegovina)   no   \n",
       "\n",
       "   Outbound Private Status Outbound Routable Status  \\\n",
       "6                 received                 received   \n",
       "23               rewritten                 received   \n",
       "44                received                 received   \n",
       "53                received                 received   \n",
       "55                received                 received   \n",
       "\n",
       "   Adjacent Spoof Prefix Length  \n",
       "6                            /8  \n",
       "23                         none  \n",
       "44                          /16  \n",
       "53                          /16  \n",
       "55                          /16  "
      ]
     },
     "execution_count": 2,
     "metadata": {},
     "output_type": "execute_result"
    }
   ],
   "source": [
    "test_df = pd.read_csv(\"recent_tests.csv\", sep=';', dtype={'Sesssion': 'str'})\n",
    "\n",
    "#Resetting types\n",
    "test_df.astype({'Timestamp': 'str',\n",
    "                'Client IP Block': 'str',\n",
    "                'ASN': 'str', \n",
    "                'Country': 'str', \n",
    "                'NAT': 'str', \n",
    "                'Outbound Private Status': 'str',\n",
    "               'Adjacent Spoof Prefix Length': 'str'}).dtypes\n",
    "\n",
    "df_received = test_df.loc[test_df['Outbound Routable Status'] == 'received']\n",
    "\n",
    "df_received.head()"
   ]
  },
  {
   "cell_type": "code",
   "execution_count": 3,
   "metadata": {},
   "outputs": [
    {
     "data": {
      "text/html": [
       "<div>\n",
       "<style scoped>\n",
       "    .dataframe tbody tr th:only-of-type {\n",
       "        vertical-align: middle;\n",
       "    }\n",
       "\n",
       "    .dataframe tbody tr th {\n",
       "        vertical-align: top;\n",
       "    }\n",
       "\n",
       "    .dataframe thead th {\n",
       "        text-align: right;\n",
       "    }\n",
       "</style>\n",
       "<table border=\"1\" class=\"dataframe\">\n",
       "  <thead>\n",
       "    <tr style=\"text-align: right;\">\n",
       "      <th></th>\n",
       "      <th>ASN</th>\n",
       "      <th>Country</th>\n",
       "      <th>IP Block</th>\n",
       "      <th>First Spoofed Timestamp</th>\n",
       "      <th>First Fixed Timestamp</th>\n",
       "    </tr>\n",
       "  </thead>\n",
       "  <tbody>\n",
       "    <tr>\n",
       "      <th>814</th>\n",
       "      <td>7377 (UCSD)</td>\n",
       "      <td>usa (United States)</td>\n",
       "      <td>2607:f720:fxx::/64</td>\n",
       "      <td>2016-02-12 19:35:38</td>\n",
       "      <td>2016-06-14 19:32:14</td>\n",
       "    </tr>\n",
       "    <tr>\n",
       "      <th>815</th>\n",
       "      <td>262426</td>\n",
       "      <td>bra (Brazil)</td>\n",
       "      <td>177.39.131.x/32</td>\n",
       "      <td>2016-05-25 22:11:10</td>\n",
       "      <td>2016-05-26 13:02:54</td>\n",
       "    </tr>\n",
       "    <tr>\n",
       "      <th>816</th>\n",
       "      <td>36352 (AS-COLOCROSSING)</td>\n",
       "      <td>usa (United States)</td>\n",
       "      <td>107.172.23.x/24</td>\n",
       "      <td>2015-10-23 14:44:30</td>\n",
       "      <td>2016-04-23 18:25:01</td>\n",
       "    </tr>\n",
       "    <tr>\n",
       "      <th>817</th>\n",
       "      <td>16276 (OVH)</td>\n",
       "      <td>deu (Germany)</td>\n",
       "      <td>51.254.23.x/24</td>\n",
       "      <td>2016-02-28 20:58:58</td>\n",
       "      <td>2016-04-17 18:58:38</td>\n",
       "    </tr>\n",
       "    <tr>\n",
       "      <th>818</th>\n",
       "      <td>8816 (IT-STCOM)</td>\n",
       "      <td>ita (Italy)</td>\n",
       "      <td>212.45.144.x/32</td>\n",
       "      <td>2016-03-31 15:03:36</td>\n",
       "      <td>2016-04-08 05:03:56</td>\n",
       "    </tr>\n",
       "  </tbody>\n",
       "</table>\n",
       "</div>"
      ],
      "text/plain": [
       "                         ASN              Country            IP Block  \\\n",
       "814              7377 (UCSD)  usa (United States)  2607:f720:fxx::/64   \n",
       "815                   262426         bra (Brazil)     177.39.131.x/32   \n",
       "816  36352 (AS-COLOCROSSING)  usa (United States)     107.172.23.x/24   \n",
       "817              16276 (OVH)        deu (Germany)      51.254.23.x/24   \n",
       "818          8816 (IT-STCOM)          ita (Italy)     212.45.144.x/32   \n",
       "\n",
       "    First Spoofed Timestamp First Fixed Timestamp  \n",
       "814     2016-02-12 19:35:38   2016-06-14 19:32:14  \n",
       "815     2016-05-25 22:11:10   2016-05-26 13:02:54  \n",
       "816     2015-10-23 14:44:30   2016-04-23 18:25:01  \n",
       "817     2016-02-28 20:58:58   2016-04-17 18:58:38  \n",
       "818     2016-03-31 15:03:36   2016-04-08 05:03:56  "
      ]
     },
     "execution_count": 3,
     "metadata": {},
     "output_type": "execute_result"
    }
   ],
   "source": [
    "remedies_df = pd.read_csv(\"remedies.csv\", sep=';')\n",
    "remedies_df.tail()"
   ]
  },
  {
   "cell_type": "code",
   "execution_count": 4,
   "metadata": {},
   "outputs": [],
   "source": [
    "#Get remediation blocks\n",
    "remedies_count_df = remedies_df.groupby('Country')\n",
    "remedies_count_df = remedies_count_df.count()[['IP Block']]\n",
    "remedies_count_df = remedies_count_df.rename(columns={\"IP Block\" : \"Blocks Fixed\"})"
   ]
  },
  {
   "cell_type": "code",
   "execution_count": 5,
   "metadata": {},
   "outputs": [],
   "source": [
    "#Get other spoofable blocks\n",
    "spoofable_df = df_received.groupby('Country')\n",
    "spoofable_df = spoofable_df.count()[['Client IP Block']]\n",
    "spoofable_df = spoofable_df.rename(columns={\"Client IP Block\" : \"Spoofable Blocks\"})\n",
    "\n",
    "spoofable_country_list = df_received['Country'].unique()"
   ]
  },
  {
   "cell_type": "markdown",
   "metadata": {},
   "source": [
    "## Helper functions"
   ]
  },
  {
   "cell_type": "code",
   "execution_count": 6,
   "metadata": {},
   "outputs": [],
   "source": [
    "#Function to calculate remediation rate\n",
    "#Input: list of countries\n",
    "#Outputs remediation rate per country\n",
    "def calc_remediation_rates(countries):\n",
    "    remediation_rates = []\n",
    "    \n",
    "    for country in countries:\n",
    "        remedies_row = remedies_count_df.loc[country]\n",
    "        spoofable_row = spoofable_df.loc[country]\n",
    "\n",
    "        remediation_rate = (remedies_row['Blocks Fixed'] / (remedies_row['Blocks Fixed'] + spoofable_row['Spoofable Blocks'])*100.0)\n",
    "        remediation_rates.append(round(remediation_rate,2))\n",
    "        \n",
    "    return remediation_rates\n",
    "\n",
    "#Average calculation\n",
    "def calc_average(lst):\n",
    "    return round(sum(lst)/len(lst),2)\n",
    "\n",
    "#Get in the country-value tuple and splits the list into two lists, higher and lower than the median\n",
    "def compute_split(combo):\n",
    "    median = statistics.median(x[1] for x in combo)\n",
    "    print(median)\n",
    "    \n",
    "    higher = []\n",
    "    lower = []\n",
    "    \n",
    "    for value in combo:\n",
    "        if value[1] > median:\n",
    "            higher.append(value)\n",
    "        else:\n",
    "            lower.append(value)\n",
    "            \n",
    "    return higher, lower\n",
    "\n",
    "#Extraction of the remedation rate column\n",
    "def extract_remediation(values, df, column, col_of_interest):\n",
    "    rates = []\n",
    "    for value in values:\n",
    "        df_current_row = df.loc[df[column] == value[0]]\n",
    "        rate = df_current_row[col_of_interest].item()\n",
    "        rates.append(rate)\n",
    "        \n",
    "    return rates\n",
    "\n",
    "#Write out the new grouping into the dataframe\n",
    "def set_group(dataframe, values, col_to_change, tag):\n",
    "    for value in values:\n",
    "        dataframe.loc[dataframe[\"Countries\"] == value[0], col_to_change] = tag\n",
    "        \n",
    "    return dataframe"
   ]
  },
  {
   "cell_type": "code",
   "execution_count": 7,
   "metadata": {},
   "outputs": [
    {
     "data": {
      "text/html": [
       "<div>\n",
       "<style scoped>\n",
       "    .dataframe tbody tr th:only-of-type {\n",
       "        vertical-align: middle;\n",
       "    }\n",
       "\n",
       "    .dataframe tbody tr th {\n",
       "        vertical-align: top;\n",
       "    }\n",
       "\n",
       "    .dataframe thead th {\n",
       "        text-align: right;\n",
       "    }\n",
       "</style>\n",
       "<table border=\"1\" class=\"dataframe\">\n",
       "  <thead>\n",
       "    <tr style=\"text-align: right;\">\n",
       "      <th></th>\n",
       "      <th>Remediation rates</th>\n",
       "      <th>continent_encoded</th>\n",
       "    </tr>\n",
       "  </thead>\n",
       "  <tbody>\n",
       "    <tr>\n",
       "      <th>Remediation rates</th>\n",
       "      <td>1.000000</td>\n",
       "      <td>-0.257143</td>\n",
       "    </tr>\n",
       "    <tr>\n",
       "      <th>continent_encoded</th>\n",
       "      <td>-0.257143</td>\n",
       "      <td>1.000000</td>\n",
       "    </tr>\n",
       "  </tbody>\n",
       "</table>\n",
       "</div>"
      ],
      "text/plain": [
       "                   Remediation rates  continent_encoded\n",
       "Remediation rates           1.000000          -0.257143\n",
       "continent_encoded          -0.257143           1.000000"
      ]
     },
     "execution_count": 7,
     "metadata": {},
     "output_type": "execute_result"
    }
   ],
   "source": [
    "#General continental analysis\n",
    "unique_countries_remedies = list(remedies_count_df.index)\n",
    "unique_countries = [x for x in spoofable_country_list if x in unique_countries_remedies]\n",
    "\n",
    "europe = ['aut (Austria)',\n",
    "          'bgr (Bulgaria)',\n",
    "          'bih (Bosnia and Herzegovina)',\n",
    "          'che (Switzerland)',\n",
    "          'cze (Czech Republic)',\n",
    "          'deu (Germany)',\n",
    "          'esp (Spain)',\n",
    "          'fra (France)',\n",
    "          'gbr (United Kingdom)',\n",
    "          'grc (Greece)',\n",
    "          'hun (Hungary)',\n",
    "          'irl (Ireland)',\n",
    "          'ita (Italy)',\n",
    "          'ltu (Lithuania)',\n",
    "          'nld (Netherlands)',\n",
    "          'nor (Norway)',\n",
    "          'pol (Poland)',\n",
    "          'prt (Portugal)',\n",
    "          'reu (Reunion [French])',\n",
    "          'rou (Romania)',\n",
    "          'svn (Slovenia)',\n",
    "          'swe (Sweden)',\n",
    "          'ukr (Ukraine)' \n",
    "         ]\n",
    "\n",
    "north_america = ['can (Canada)', \n",
    "                 'usa (United States)']\n",
    "\n",
    "south_america = ['arg (Argentina)',\n",
    "                 'bol (Bolivia)',\n",
    "                 'bra (Brazil)',\n",
    "                 'chl (Chile)',\n",
    "                 'cri (Costa Rica)',\n",
    "                 'hti (Haiti)',\n",
    "                 'mex (Mexico)',\n",
    "                 'pan (Panama)',\n",
    "                 'pry (Paraguay)',\n",
    "                 'ury (Uruguay)']\n",
    "\n",
    "asia = ['bgd (Bangladesh)',\n",
    "        'idn (Indonesia)',\n",
    "        'ind (India)',\n",
    "        'irn (Iran)',\n",
    "        'irq (Iraq)',\n",
    "        'isr (Israel)',\n",
    "        'jpn (Japan)',\n",
    "        'kaz (Kazakhstan)',\n",
    "        'kor (South Korea)',\n",
    "        'mmr (Myanmar)',\n",
    "        'npl (Nepal)',\n",
    "        'pak (Pakistan)',\n",
    "        'phl (Philippines)',\n",
    "        'rus (Russian Federation)',\n",
    "        'tha (Thailand)',\n",
    "        'tur (Turkey)',\n",
    "        'twn (Taiwan)']\n",
    "\n",
    "africa = ['ken (Kenya)', \n",
    "          'khm (Cambodia, Kingdom of)',\n",
    "          'mar (Morocco)',\n",
    "          'mus (Mauritius)',\n",
    "          'tza (Tanzania)',\n",
    "          'zaf (South Africa)']\n",
    "\n",
    "australia = ['aus (Australia)', 'nzl (New Zealand)']\n",
    "\n",
    "remediation_averages = []\n",
    "europe_remediation_rates = calc_remediation_rates(europe)\n",
    "remediation_averages.append(calc_average(europe_remediation_rates))\n",
    "\n",
    "na_remediation_rates = calc_remediation_rates(north_america)\n",
    "remediation_averages.append(calc_average(na_remediation_rates))\n",
    "\n",
    "sa_remediation_rates = calc_remediation_rates(south_america)\n",
    "remediation_averages.append(calc_average(sa_remediation_rates))\n",
    "\n",
    "asia_remediation_rates = calc_remediation_rates(asia)\n",
    "remediation_averages.append(calc_average(asia_remediation_rates))\n",
    "\n",
    "africa_remediation_rates = calc_remediation_rates(africa)\n",
    "remediation_averages.append(calc_average(africa_remediation_rates))\n",
    "\n",
    "australia_remediation_rates = calc_remediation_rates(australia)\n",
    "remediation_averages.append(calc_average(australia_remediation_rates))\n",
    "                            \n",
    "continents = ['Europe', 'North America', 'South America', 'Asia', 'Africa', 'Australia']\n",
    "\n",
    "data = {'Continent': continents,\n",
    "       'Remediation rates': remediation_averages}\n",
    "\n",
    "continent_df = pd.DataFrame(data, columns=['Continent', 'Remediation rates'])\n",
    "\n",
    "enc = LabelEncoder()\n",
    "enc.fit(continent_df['Continent'])\n",
    "continent_df['continent_encoded'] = enc.transform(continent_df['Continent'])\n",
    "\n",
    "corr_continent_df = pd.DataFrame.corr(continent_df, method='spearman')\n",
    "corr_continent_df.head()"
   ]
  },
  {
   "cell_type": "code",
   "execution_count": 159,
   "metadata": {},
   "outputs": [
    {
     "name": "stdout",
     "output_type": "stream",
     "text": [
      "                                 OLS Regression Results                                \n",
      "=======================================================================================\n",
      "Dep. Variable:      Remediation rates   R-squared (uncentered):                   0.537\n",
      "Model:                            OLS   Adj. R-squared (uncentered):              0.444\n",
      "Method:                 Least Squares   F-statistic:                              5.790\n",
      "Date:                Tue, 03 Nov 2020   Prob (F-statistic):                      0.0611\n",
      "Time:                        14:02:59   Log-Likelihood:                         -26.433\n",
      "No. Observations:                   6   AIC:                                      54.87\n",
      "Df Residuals:                       5   BIC:                                      54.66\n",
      "Df Model:                           1                                                  \n",
      "Covariance Type:            nonrobust                                                  \n",
      "=====================================================================================\n",
      "                        coef    std err          t      P>|t|      [0.025      0.975]\n",
      "-------------------------------------------------------------------------------------\n",
      "continent_encoded     7.0444      2.927      2.406      0.061      -0.481      14.570\n",
      "==============================================================================\n",
      "Omnibus:                          nan   Durbin-Watson:                   0.643\n",
      "Prob(Omnibus):                    nan   Jarque-Bera (JB):                0.526\n",
      "Skew:                           0.373   Prob(JB):                        0.769\n",
      "Kurtosis:                       1.756   Cond. No.                         1.00\n",
      "==============================================================================\n",
      "\n",
      "Warnings:\n",
      "[1] Standard Errors assume that the covariance matrix of the errors is correctly specified.\n"
     ]
    },
    {
     "name": "stderr",
     "output_type": "stream",
     "text": [
      "/Users/almagunn/anaconda3/lib/python3.7/site-packages/statsmodels/stats/stattools.py:71: ValueWarning: omni_normtest is not valid with less than 8 observations; 6 samples were given.\n",
      "  \"samples were given.\" % int(n), ValueWarning)\n"
     ]
    }
   ],
   "source": [
    "#Linear regression of continental analysis\n",
    "X = continent_df['continent_encoded']\n",
    "Y = continent_df['Remediation rates']\n",
    "\n",
    "model = sm.OLS(Y, X).fit()\n",
    "predictions = model.predict(X) \n",
    "\n",
    "print_model = model.summary()\n",
    "print(print_model)"
   ]
  },
  {
   "cell_type": "markdown",
   "metadata": {},
   "source": [
    "## GDP related analysis"
   ]
  },
  {
   "cell_type": "code",
   "execution_count": 8,
   "metadata": {},
   "outputs": [
    {
     "data": {
      "text/html": [
       "<div>\n",
       "<style scoped>\n",
       "    .dataframe tbody tr th:only-of-type {\n",
       "        vertical-align: middle;\n",
       "    }\n",
       "\n",
       "    .dataframe tbody tr th {\n",
       "        vertical-align: top;\n",
       "    }\n",
       "\n",
       "    .dataframe thead th {\n",
       "        text-align: right;\n",
       "    }\n",
       "</style>\n",
       "<table border=\"1\" class=\"dataframe\">\n",
       "  <thead>\n",
       "    <tr style=\"text-align: right;\">\n",
       "      <th></th>\n",
       "      <th>Series Name</th>\n",
       "      <th>Series Code</th>\n",
       "      <th>Country Name</th>\n",
       "      <th>Country Code</th>\n",
       "      <th>GDP 2019</th>\n",
       "    </tr>\n",
       "  </thead>\n",
       "  <tbody>\n",
       "    <tr>\n",
       "      <th>0</th>\n",
       "      <td>GDP (current US$)</td>\n",
       "      <td>NY.GDP.MKTP.CD</td>\n",
       "      <td>Afghanistan</td>\n",
       "      <td>AFG</td>\n",
       "      <td>19101353832.7371</td>\n",
       "    </tr>\n",
       "    <tr>\n",
       "      <th>1</th>\n",
       "      <td>GDP (current US$)</td>\n",
       "      <td>NY.GDP.MKTP.CD</td>\n",
       "      <td>Albania</td>\n",
       "      <td>ALB</td>\n",
       "      <td>15278077446.8643</td>\n",
       "    </tr>\n",
       "    <tr>\n",
       "      <th>2</th>\n",
       "      <td>GDP (current US$)</td>\n",
       "      <td>NY.GDP.MKTP.CD</td>\n",
       "      <td>Algeria</td>\n",
       "      <td>DZA</td>\n",
       "      <td>169988236398.126</td>\n",
       "    </tr>\n",
       "    <tr>\n",
       "      <th>3</th>\n",
       "      <td>GDP (current US$)</td>\n",
       "      <td>NY.GDP.MKTP.CD</td>\n",
       "      <td>American Samoa</td>\n",
       "      <td>ASM</td>\n",
       "      <td>..</td>\n",
       "    </tr>\n",
       "    <tr>\n",
       "      <th>4</th>\n",
       "      <td>GDP (current US$)</td>\n",
       "      <td>NY.GDP.MKTP.CD</td>\n",
       "      <td>Andorra</td>\n",
       "      <td>AND</td>\n",
       "      <td>3154057987.23833</td>\n",
       "    </tr>\n",
       "  </tbody>\n",
       "</table>\n",
       "</div>"
      ],
      "text/plain": [
       "         Series Name     Series Code    Country Name Country Code  \\\n",
       "0  GDP (current US$)  NY.GDP.MKTP.CD     Afghanistan          AFG   \n",
       "1  GDP (current US$)  NY.GDP.MKTP.CD         Albania          ALB   \n",
       "2  GDP (current US$)  NY.GDP.MKTP.CD         Algeria          DZA   \n",
       "3  GDP (current US$)  NY.GDP.MKTP.CD  American Samoa          ASM   \n",
       "4  GDP (current US$)  NY.GDP.MKTP.CD         Andorra          AND   \n",
       "\n",
       "           GDP 2019  \n",
       "0  19101353832.7371  \n",
       "1  15278077446.8643  \n",
       "2  169988236398.126  \n",
       "3                ..  \n",
       "4  3154057987.23833  "
      ]
     },
     "execution_count": 8,
     "metadata": {},
     "output_type": "execute_result"
    }
   ],
   "source": [
    "#Obtain GDP data\n",
    "GDP_df = pd.read_csv(\"2019_GDP.csv\")\n",
    "GDP_df = GDP_df.rename(columns = {\"2019 [YR2019]\":\"GDP 2019\"})\n",
    "GDP_df = GDP_df.dropna()\n",
    "\n",
    "GDP_df.head()"
   ]
  },
  {
   "cell_type": "code",
   "execution_count": 10,
   "metadata": {},
   "outputs": [
    {
     "data": {
      "text/plain": [
       "<matplotlib.axes._subplots.AxesSubplot at 0x7ffc9aa6b450>"
      ]
     },
     "execution_count": 10,
     "metadata": {},
     "output_type": "execute_result"
    },
    {
     "data": {
      "image/png": "[encoded data removed]",
      "text/plain": [
       "<Figure size 648x576 with 2 Axes>"
      ]
     },
     "metadata": {
      "needs_background": "light"
     },
     "output_type": "display_data"
    }
   ],
   "source": [
    "#Generating countries which appear in unique countries and spoofable data\n",
    "GDP_countries = GDP_df[\"Country Name\"].unique()\n",
    "\n",
    "unique_countries = list(remedies_count_df.index)\n",
    "\n",
    "unique_countries = [x for x in spoofable_country_list if x in unique_countries_remedies]\n",
    "\n",
    "unique_countries_short = []\n",
    "\n",
    "GDP_scores = []\n",
    "\n",
    "country_GDP_combo = []\n",
    "\n",
    "for unique_country in unique_countries:\n",
    "    for country in GDP_countries:\n",
    "        if country in unique_country:\n",
    "            unique_countries_short.append(unique_country)\n",
    "            GDP_curr_row = GDP_df.loc[GDP_df['Country Name'] == country]\n",
    "            GDP_curr_score = GDP_curr_row[\"GDP 2019\"].item()\n",
    "            GDP_scores.append(float(GDP_curr_score))\n",
    "            \n",
    "            country_GDP_combo.append((unique_country, float(GDP_curr_score)))\n",
    "            break\n",
    "\n",
    "unique_country_remediation = calc_remediation_rates(unique_countries_short)\n",
    "\n",
    "data = {'Countries': unique_countries_short,\n",
    "       'Remediation rates': unique_country_remediation,\n",
    "       'GDP': GDP_scores}\n",
    "\n",
    "GDP_short_df = pd.DataFrame(data, columns=['Countries', 'Remediation rates', 'GDP'])\n",
    "\n",
    "enc = LabelEncoder()\n",
    "enc.fit(GDP_short_df['Countries'])\n",
    "GDP_short_df['Country encoded'] = enc.transform(GDP_short_df['Countries'])\n",
    "\n",
    "GDP_corr_df = pd.DataFrame.corr(GDP_short_df, method='spearman')\n",
    "\n",
    "GDP_corr_df.head()\n",
    "\n",
    "f, ax = plt.subplots(figsize =(9, 8)) \n",
    "sns.set(font_scale=2)\n",
    "sns.heatmap(GDP_corr_df, ax = ax, cmap =\"YlGnBu\",linewidths = 0.1)"
   ]
  },
  {
   "cell_type": "code",
   "execution_count": 11,
   "metadata": {},
   "outputs": [
    {
     "name": "stdout",
     "output_type": "stream",
     "text": [
      "292444706937.8925\n",
      "72006516176.9143\n",
      "1014130587956.7915\n"
     ]
    }
   ],
   "source": [
    "#Compute the four grouping values\n",
    "higher_GDP_half, lower_GDP_half = compute_split(country_GDP_combo)\n",
    "low_GDP_quarter, lowest_GDP_quarter = compute_split(lower_GDP_half)\n",
    "highest_GDP_quarter, high_GDP_quarter = compute_split(higher_GDP_half)"
   ]
  },
  {
   "cell_type": "code",
   "execution_count": 133,
   "metadata": {},
   "outputs": [],
   "source": [
    "#Get remediation rates based on grouping\n",
    "lowest_GDP_quarter_remediation = extract_remediation(lowest_GDP_quarter, GDP_short_df, \"Countries\", \"Remediation rates\")\n",
    "low_GDP_quarter_remediation = extract_remediation(low_GDP_quarter, GDP_short_df, \"Countries\", \"Remediation rates\")\n",
    "high_GDP_quarter_remediation = extract_remediation(high_GDP_quarter, GDP_short_df, \"Countries\", \"Remediation rates\")\n",
    "highest_GDP_quarter_remediation = extract_remediation(highest_GDP_quarter, GDP_short_df, \"Countries\", \"Remediation rates\")"
   ]
  },
  {
   "cell_type": "code",
   "execution_count": 53,
   "metadata": {},
   "outputs": [
    {
     "data": {
      "text/plain": [
       "F_onewayResult(statistic=0.8056518565165799, pvalue=0.4964484171683027)"
      ]
     },
     "execution_count": 53,
     "metadata": {},
     "output_type": "execute_result"
    }
   ],
   "source": [
    "#One way ANOVA testing\n",
    "stats.f_oneway(lowest_GDP_quarter_remediation, low_GDP_quarter_remediation, high_GDP_quarter_remediation, highest_GDP_quarter_remediation)"
   ]
  },
  {
   "cell_type": "code",
   "execution_count": 126,
   "metadata": {},
   "outputs": [
    {
     "data": {
      "text/html": [
       "<div>\n",
       "<style scoped>\n",
       "    .dataframe tbody tr th:only-of-type {\n",
       "        vertical-align: middle;\n",
       "    }\n",
       "\n",
       "    .dataframe tbody tr th {\n",
       "        vertical-align: top;\n",
       "    }\n",
       "\n",
       "    .dataframe thead th {\n",
       "        text-align: right;\n",
       "    }\n",
       "</style>\n",
       "<table border=\"1\" class=\"dataframe\">\n",
       "  <thead>\n",
       "    <tr style=\"text-align: right;\">\n",
       "      <th></th>\n",
       "      <th>Countries</th>\n",
       "      <th>Remediation rates</th>\n",
       "      <th>GDP</th>\n",
       "      <th>Country encoded</th>\n",
       "      <th>GDP group</th>\n",
       "    </tr>\n",
       "  </thead>\n",
       "  <tbody>\n",
       "    <tr>\n",
       "      <th>0</th>\n",
       "      <td>khm (Cambodia, Kingdom of)</td>\n",
       "      <td>13.33</td>\n",
       "      <td>2.708939e+10</td>\n",
       "      <td>29</td>\n",
       "      <td>Very low</td>\n",
       "    </tr>\n",
       "    <tr>\n",
       "      <th>1</th>\n",
       "      <td>bra (Brazil)</td>\n",
       "      <td>9.22</td>\n",
       "      <td>1.839758e+12</td>\n",
       "      <td>7</td>\n",
       "      <td>Very high</td>\n",
       "    </tr>\n",
       "    <tr>\n",
       "      <th>2</th>\n",
       "      <td>bih (Bosnia and Herzegovina)</td>\n",
       "      <td>1.39</td>\n",
       "      <td>2.004785e+10</td>\n",
       "      <td>5</td>\n",
       "      <td>Very low</td>\n",
       "    </tr>\n",
       "    <tr>\n",
       "      <th>3</th>\n",
       "      <td>can (Canada)</td>\n",
       "      <td>24.00</td>\n",
       "      <td>1.736426e+12</td>\n",
       "      <td>8</td>\n",
       "      <td>Very high</td>\n",
       "    </tr>\n",
       "    <tr>\n",
       "      <th>4</th>\n",
       "      <td>usa (United States)</td>\n",
       "      <td>17.80</td>\n",
       "      <td>2.137442e+13</td>\n",
       "      <td>54</td>\n",
       "      <td>Very high</td>\n",
       "    </tr>\n",
       "  </tbody>\n",
       "</table>\n",
       "</div>"
      ],
      "text/plain": [
       "                      Countries  Remediation rates           GDP  \\\n",
       "0    khm (Cambodia, Kingdom of)              13.33  2.708939e+10   \n",
       "1                  bra (Brazil)               9.22  1.839758e+12   \n",
       "2  bih (Bosnia and Herzegovina)               1.39  2.004785e+10   \n",
       "3                  can (Canada)              24.00  1.736426e+12   \n",
       "4           usa (United States)              17.80  2.137442e+13   \n",
       "\n",
       "   Country encoded  GDP group  \n",
       "0               29   Very low  \n",
       "1                7  Very high  \n",
       "2                5   Very low  \n",
       "3                8  Very high  \n",
       "4               54  Very high  "
      ]
     },
     "execution_count": 126,
     "metadata": {},
     "output_type": "execute_result"
    }
   ],
   "source": [
    "#Add grouping to the dataframe\n",
    "GDP_short_df['GDP group'] = ''\n",
    "\n",
    "GDP_short_df = set_group(GDP_short_df, lowest_GDP_quarter, \"GDP group\", \"Very low\")\n",
    "GDP_short_df = set_group(GDP_short_df, low_GDP_quarter, \"GDP group\", \"Low\")\n",
    "GDP_short_df = set_group(GDP_short_df, high_GDP_quarter, \"GDP group\", \"High\")\n",
    "GDP_short_df = set_group(GDP_short_df, highest_GDP_quarter, \"GDP group\", \"Very high\")\n",
    "\n",
    "GDP_short_df.head()"
   ]
  },
  {
   "cell_type": "code",
   "execution_count": 130,
   "metadata": {},
   "outputs": [
    {
     "data": {
      "image/png": "[encoded data removed]",
      "text/plain": [
       "<Figure size 576x432 with 1 Axes>"
      ]
     },
     "metadata": {},
     "output_type": "display_data"
    }
   ],
   "source": [
    "#Visualize distribution in a scatterplot\n",
    "fig, ax = plt.subplots(figsize=(8,6))\n",
    "sns.set(font_scale=1.25)\n",
    "sns.scatterplot(x='Remediation rates', y='GDP', hue='GDP group', data=GDP_short_df) \n",
    "\n",
    "plt.ylabel(\"GDP (US $)\")\n",
    "plt.show()"
   ]
  },
  {
   "cell_type": "code",
   "execution_count": 132,
   "metadata": {},
   "outputs": [
    {
     "data": {
      "image/png": "[encoded data removed]",
      "text/plain": [
       "<Figure size 576x432 with 1 Axes>"
      ]
     },
     "metadata": {},
     "output_type": "display_data"
    }
   ],
   "source": [
    "#Visualize the distribution without the states\n",
    "GDP_exUS_df = GDP_short_df.loc[~(GDP_short_df['Countries'] == 'usa (United States)')]\n",
    "\n",
    "fig, ax = plt.subplots(figsize=(8,6))\n",
    "sns.set(font_scale=1.25)\n",
    "sns.scatterplot(x='Remediation rates', y='GDP', hue='GDP group', data=GDP_exUS_df) \n",
    "\n",
    "plt.ylabel(\"GDP (US $)\")\n",
    "plt.show()"
   ]
  },
  {
   "cell_type": "markdown",
   "metadata": {},
   "source": [
    "## IDI score related analysis"
   ]
  },
  {
   "cell_type": "code",
   "execution_count": 110,
   "metadata": {},
   "outputs": [
    {
     "data": {
      "text/plain": [
       "<matplotlib.axes._subplots.AxesSubplot at 0x7fa8f95305d0>"
      ]
     },
     "execution_count": 110,
     "metadata": {},
     "output_type": "execute_result"
    },
    {
     "data": {
      "image/png": "[encoded data removed]",
      "text/plain": [
       "<Figure size 648x576 with 2 Axes>"
      ]
     },
     "metadata": {},
     "output_type": "display_data"
    }
   ],
   "source": [
    "#Set up did database and visualize correlation\n",
    "IDI_scores_df = pd.read_csv('IDI_2017_Rank.csv',sep=';')\n",
    "IDI_countries = IDI_scores_df['Economy'].unique()\n",
    "\n",
    "unique_countries_remedies = list(remedies_count_df.index)\n",
    "\n",
    "unique_countries = [x for x in spoofable_country_list if x in unique_countries_remedies]\n",
    "IDI_countries_short = []\n",
    "unique_countries_short = []\n",
    "\n",
    "IDI_scores = []\n",
    "IDI_scores_combo = []\n",
    "\n",
    "for unique_country in unique_countries:\n",
    "    for country in IDI_countries:\n",
    "        if country in unique_country:\n",
    "            #IDI_countries_short.append(country)\n",
    "            unique_countries_short.append(unique_country)\n",
    "            IDI_curr_row = IDI_scores_df.loc[IDI_scores_df['Economy'] == country]\n",
    "            IDI_curr_score = IDI_curr_row[\"IDI 2017 Value\"].item()\n",
    "            IDI_scores.append(IDI_curr_score)\n",
    "            IDI_scores_combo.append((unique_country, IDI_curr_score))\n",
    "            break\n",
    "\n",
    "unique_country_remediation = calc_remediation_rates(unique_countries_short)\n",
    "\n",
    "data = {'Countries': unique_countries_short,\n",
    "       'Remediation rates': unique_country_remediation,\n",
    "       'IDI scores': IDI_scores}\n",
    "\n",
    "IDI_scores_df = pd.DataFrame(data, columns=['Countries', 'Remediation rates', 'IDI scores'])\n",
    "\n",
    "enc = LabelEncoder()\n",
    "enc.fit(IDI_scores_df['Countries'])\n",
    "IDI_scores_df['country_encoded'] = enc.transform(IDI_scores_df['Countries'])\n",
    "\n",
    "corr_IDI_df = pd.DataFrame.corr(IDI_scores_df, method='spearman')\n",
    "\n",
    "f, ax = plt.subplots(figsize =(9, 8)) \n",
    "sns.set(font_scale=2)\n",
    "sns.heatmap(corr_IDI_df, ax = ax, cmap =\"YlGnBu\", linewidths = 0.1)\n"
   ]
  },
  {
   "cell_type": "code",
   "execution_count": 57,
   "metadata": {},
   "outputs": [
    {
     "data": {
      "text/plain": [
       "Text(0.5, 1.0, 'IDI score')"
      ]
     },
     "execution_count": 57,
     "metadata": {},
     "output_type": "execute_result"
    },
    {
     "data": {
      "image/png": "[encoded data removed]",
      "text/plain": [
       "<Figure size 432x288 with 3 Axes>"
      ]
     },
     "metadata": {
      "needs_background": "light"
     },
     "output_type": "display_data"
    }
   ],
   "source": [
    "#Make histograms to evaluate distribution\n",
    "seed(1)\n",
    "\n",
    "fig, axs = plt.subplots(1, 3, tight_layout=True)\n",
    "\n",
    "seed(1)\n",
    "axs[0].hist(GDP_short_df['Remediation rates'])\n",
    "axs[0].set_title('Remediation rate')\n",
    "axs[1].hist(GDP_short_df['GDP'])\n",
    "axs[1].set_title('GDP')\n",
    "axs[2].hist(IDI_scores_df['IDI scores'])\n",
    "axs[2].set_title('IDI score')"
   ]
  },
  {
   "cell_type": "code",
   "execution_count": 79,
   "metadata": {},
   "outputs": [
    {
     "name": "stdout",
     "output_type": "stream",
     "text": [
      "6.79\n",
      "4.84\n",
      "7.949999999999999\n"
     ]
    }
   ],
   "source": [
    "#Compute the groupings\n",
    "higher_IDI_half, lower_IDI_half = compute_split(IDI_scores_combo)\n",
    "low_IDI_quarter, lowest_IDI_quarter = compute_split(lower_IDI_half)\n",
    "highest_IDI_quarter, high_IDI_quarter = compute_split(higher_IDI_half)"
   ]
  },
  {
   "cell_type": "code",
   "execution_count": 82,
   "metadata": {},
   "outputs": [],
   "source": [
    "#Get distribution based on groupings\n",
    "lowest_IDI_quarter_remediation = extract_remediation(lowest_IDI_quarter, IDI_scores_df, \"Countries\", \"Remediation rates\")\n",
    "low_IDI_quarter_remediation = extract_remediation(low_IDI_quarter, IDI_scores_df, \"Countries\", \"Remediation rates\")\n",
    "high_IDI_quarter_remediation = extract_remediation(high_IDI_quarter, IDI_scores_df, \"Countries\", \"Remediation rates\")\n",
    "highest_IDI_quarter_remediation = extract_remediation(highest_IDI_quarter, IDI_scores_df, \"Countries\", \"Remediation rates\")"
   ]
  },
  {
   "cell_type": "code",
   "execution_count": 60,
   "metadata": {},
   "outputs": [
    {
     "data": {
      "text/plain": [
       "F_onewayResult(statistic=0.5441621652789097, pvalue=0.6543460905917728)"
      ]
     },
     "execution_count": 60,
     "metadata": {},
     "output_type": "execute_result"
    }
   ],
   "source": [
    "#One way ANOVA tests\n",
    "stats.f_oneway(lowest_IDI_quarter_remediation, low_IDI_quarter_remediation, high_IDI_quarter_remediation, highest_IDI_quarter_remediation)"
   ]
  },
  {
   "cell_type": "code",
   "execution_count": 83,
   "metadata": {},
   "outputs": [],
   "source": [
    "#Add column for grouping to database\n",
    "IDI_scores_df['IDI group'] = ''\n",
    "\n",
    "IDI_scores_df = set_group(IDI_scores_df, lowest_IDI_quarter, \"IDI group\", \"Very low\")\n",
    "IDI_scores_df = set_group(IDI_scores_df, low_IDI_quarter, \"IDI group\", \"Low\")\n",
    "IDI_scores_df = set_group(IDI_scores_df, high_IDI_quarter, \"IDI group\", \"High\")\n",
    "IDI_scores_df = set_group(IDI_scores_df, highest_IDI_quarter, \"IDI group\", \"Very high\")"
   ]
  },
  {
   "cell_type": "code",
   "execution_count": 86,
   "metadata": {},
   "outputs": [
    {
     "data": {
      "image/png": "[encoded data removed]",
      "text/plain": [
       "<Figure size 576x432 with 1 Axes>"
      ]
     },
     "metadata": {},
     "output_type": "display_data"
    }
   ],
   "source": [
    "#Create scatterplot of distribution\n",
    "fig, ax = plt.subplots(figsize=(8,6))\n",
    "sns.set(font_scale = 1)\n",
    "sns.scatterplot(x='Remediation rates', y='IDI scores', hue='IDI group', data=IDI_scores_df) \n",
    "\n",
    "plt.ylabel(\"IDI scores\")\n",
    "plt.legend(loc='lower right')\n",
    "plt.show()"
   ]
  },
  {
   "cell_type": "code",
   "execution_count": null,
   "metadata": {},
   "outputs": [],
   "source": []
  }
 ],
 "metadata": {
  "kernelspec": {
   "display_name": "Python 3",
   "language": "python",
   "name": "python3"
  },
  "language_info": {
   "codemirror_mode": {
    "name": "ipython",
    "version": 3
   },
   "file_extension": ".py",
   "mimetype": "text/x-python",
   "name": "python",
   "nbconvert_exporter": "python",
   "pygments_lexer": "ipython3",
   "version": "3.7.6"
  }
 },
 "nbformat": 4,
 "nbformat_minor": 4
}
