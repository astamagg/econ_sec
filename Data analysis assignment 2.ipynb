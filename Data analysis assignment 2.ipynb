{
 "cells": [
  {
   "cell_type": "code",
   "execution_count": 99,
   "metadata": {},
   "outputs": [],
   "source": [
    "import pandas as pd\n",
    "import wbdata\n",
    "import datetime\n",
    "import os\n",
    "import matplotlib.pyplot as plt\n",
    "os.chdir(\"C:/Users/chris/Documents/EPA/Economics of cyber security/Data analysis project/econ_sec-master\")"
   ]
  },
  {
   "cell_type": "markdown",
   "metadata": {},
   "source": [
    "## Test Data\n",
    "Importing tests of CAIDA and calculating percentage scores of countries in their mitigation of IP-spoofing"
   ]
  },
  {
   "cell_type": "code",
   "execution_count": 100,
   "metadata": {},
   "outputs": [
    {
     "name": "stderr",
     "output_type": "stream",
     "text": [
      "C:\\Users\\chris\\AppData\\Local\\Continuum\\anaconda3\\lib\\site-packages\\IPython\\core\\interactiveshell.py:3146: DtypeWarning: Columns (0) have mixed types.Specify dtype option on import or set low_memory=False.\n",
      "  interactivity=interactivity, compiler=compiler, result=result)\n"
     ]
    }
   ],
   "source": [
    "test_df = pd.read_csv(\"recent_tests.csv\", sep=';', dtype={'Sesssion': 'str'})\n",
    "\n",
    "#Resetting types\n",
    "test_df.astype({'Timestamp': 'str',\n",
    "                'Client IP Block': 'str',\n",
    "                'ASN': 'str', \n",
    "                'Country': 'str', \n",
    "                'NAT': 'str', \n",
    "                'Outbound Private Status': 'str',\n",
    "               'Adjacent Spoof Prefix Length': 'str'}).dtypes\n",
    "\n",
    "df_blocked = test_df.loc[test_df['Outbound Routable Status'] == 'blocked']\n",
    "df_received = test_df.loc[test_df['Outbound Routable Status'] == 'received']"
   ]
  },
  {
   "cell_type": "code",
   "execution_count": 101,
   "metadata": {},
   "outputs": [],
   "source": [
    "def column_percentage(df1, df2, column, threshold=0):\n",
    "    blocked_countries = df1[column].unique().tolist()\n",
    "    received_countries = df2[column].unique().tolist()\n",
    "    \n",
    "    country_list = []\n",
    "    percentages = []\n",
    "    \n",
    "    for val in received_countries:\n",
    "        received_country_df = df2.loc[df2[column] == val]\n",
    "        if val in blocked_countries:\n",
    "            blocked_country_df = df1.loc[df1[column] == val]\n",
    "            \n",
    "            if received_country_df.shape[0] > threshold:\n",
    "                percentage = round((received_country_df.shape[0]/(blocked_country_df.shape[0] + received_country_df.shape[0])) *100, 2)\n",
    "                percentages.append(percentage)\n",
    "                \n",
    "                country_list.append(val)\n",
    "            \n",
    "        else:\n",
    "            if received_country_df.shape[0] > threshold:\n",
    "                percentages.append(100)\n",
    "                country_list.append(val)\n",
    "        \n",
    "    return pd.DataFrame({'Percentage mitigation':percentages}, index=country_list)\n",
    "        \n",
    "df_percentages = column_percentage(df_blocked, df_received, 'Country')"
   ]
  },
  {
   "cell_type": "code",
   "execution_count": 102,
   "metadata": {},
   "outputs": [],
   "source": [
    "#read worldbank GDP data\n",
    "data_date = datetime.datetime(2019, 1, 1)\n",
    "df_GDP = wbdata.get_dataframe({'NY.GDP.MKTP.CD':'GDP'}, country='all', data_date=data_date)\n",
    "\n",
    "#read IDI scores\n",
    "df_idi = pd.read_csv(\"IDI_2017_Rank.csv\", sep=';', index_col=1)"
   ]
  },
  {
   "cell_type": "markdown",
   "metadata": {},
   "source": [
    "## Merging dataframes\n",
    "Merge the different datasources into one dataframe"
   ]
  },
  {
   "cell_type": "code",
   "execution_count": 103,
   "metadata": {},
   "outputs": [],
   "source": [
    "for i in df_GDP.index:\n",
    "    for j in df_percentages.index:\n",
    "        if i in j:\n",
    "            df_percentages.loc[j,'GDP'] = df_GDP.loc[i,'GDP']\n",
    "\n",
    "for i in df_idi.index:\n",
    "    for j in df_percentages.index:\n",
    "        if i in j:\n",
    "            df_percentages.loc[j,'IDI'] = df_idi.loc[i,'IDI 2017 Value']\n",
    "            \n",
    "df_percentages = df_percentages.dropna()"
   ]
  },
  {
   "cell_type": "markdown",
   "metadata": {},
   "source": [
    "## Plotting\n",
    "Plotting GDP and IDI score to test for correlation."
   ]
  },
  {
   "cell_type": "code",
   "execution_count": 104,
   "metadata": {},
   "outputs": [
    {
     "data": {
      "image/png": "[encoded data removed]",
      "text/plain": [
       "<Figure size 1080x360 with 2 Axes>"
      ]
     },
     "metadata": {
      "needs_background": "light"
     },
     "output_type": "display_data"
    }
   ],
   "source": [
    "fig, (ax1,ax2) = plt.subplots(ncols=2, figsize=(15,5))\n",
    "ax1.scatter(df_percentages.iloc[:,1],df_percentages.iloc[:,0])\n",
    "ax2.scatter(df_percentages.iloc[:,2],df_percentages.iloc[:,0])\n",
    "\n",
    "ax1.set_xscale('log')\n",
    "ax1.set(ylabel=\"percentage of received packages\", xlabel=\"GDP in logarithmic scale\")\n",
    "ax2.set(xlabel=\"IDI score\")\n",
    "\n",
    "fig.suptitle('Visualising correlation between the Countries mitigation of spoofing and correlating factors.')\n",
    "\n",
    "fig.savefig('visualisation_of_correlation.png')"
   ]
  }
 ],
 "metadata": {
  "kernelspec": {
   "display_name": "Python 3",
   "language": "python",
   "name": "python3"
  },
  "language_info": {
   "codemirror_mode": {
    "name": "ipython",
    "version": 3
   },
   "file_extension": ".py",
   "mimetype": "text/x-python",
   "name": "python",
   "nbconvert_exporter": "python",
   "pygments_lexer": "ipython3",
   "version": "3.7.3"
  }
 },
 "nbformat": 4,
 "nbformat_minor": 4
}
